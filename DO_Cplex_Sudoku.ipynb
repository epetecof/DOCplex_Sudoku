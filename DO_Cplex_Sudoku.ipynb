{
 "cells": [
  {
   "cell_type": "code",
   "execution_count": 2,
   "metadata": {
    "collapsed": true
   },
   "outputs": [
    {
     "name": "stdout",
     "output_type": "stream",
     "text": [
      "Collecting docplex\n",
      "\u001b[?25l  Downloading https://files.pythonhosted.org/packages/3a/d2/0da1653b2448ff4eb93a7d31cfeec8502eec756e79ac74db8215b1b3bd65/docplex-2.10.154.tar.gz (529kB)\n",
      "\u001b[K    100% |████████████████████████████████| 532kB 861kB/s ta 0:00:01\n",
      "\u001b[?25hRequirement already satisfied: requests in /Users/eduardopetecofmattoso/anaconda3/lib/python3.7/site-packages (from docplex) (2.21.0)\n",
      "Requirement already satisfied: six in /Users/eduardopetecofmattoso/anaconda3/lib/python3.7/site-packages (from docplex) (1.12.0)\n",
      "Collecting docloud>=1.0.369 (from docplex)\n",
      "  Downloading https://files.pythonhosted.org/packages/89/1c/fcb7ea86ae5cb7137a22f00bcaa785de2d102bd4a2b16383ec4a877a835b/docloud-1.0.375.tar.gz\n",
      "Requirement already satisfied: chardet<3.1.0,>=3.0.2 in /Users/eduardopetecofmattoso/anaconda3/lib/python3.7/site-packages (from requests->docplex) (3.0.4)\n",
      "Requirement already satisfied: idna<2.9,>=2.5 in /Users/eduardopetecofmattoso/anaconda3/lib/python3.7/site-packages (from requests->docplex) (2.8)\n",
      "Requirement already satisfied: urllib3<1.25,>=1.21.1 in /Users/eduardopetecofmattoso/anaconda3/lib/python3.7/site-packages (from requests->docplex) (1.24.1)\n",
      "Requirement already satisfied: certifi>=2017.4.17 in /Users/eduardopetecofmattoso/anaconda3/lib/python3.7/site-packages (from requests->docplex) (2018.11.29)\n",
      "Building wheels for collected packages: docplex, docloud\n",
      "  Running setup.py bdist_wheel for docplex ... \u001b[?25ldone\n",
      "\u001b[?25h  Stored in directory: /Users/eduardopetecofmattoso/Library/Caches/pip/wheels/5d/27/dd/9ee8195bca0c628f6356cf57bc9e7dbd60b80265b74203d329\n",
      "  Running setup.py bdist_wheel for docloud ... \u001b[?25ldone\n",
      "\u001b[?25h  Stored in directory: /Users/eduardopetecofmattoso/Library/Caches/pip/wheels/4e/24/19/9b0e57545d7543ecec35c5faff78c058bf0c2506369c8b1d31\n",
      "Successfully built docplex docloud\n",
      "Installing collected packages: docloud, docplex\n",
      "Successfully installed docloud-1.0.375 docplex-2.10.154\n"
     ]
    }
   ],
   "source": [
    "! pip install docplex"
   ]
  },
  {
   "cell_type": "code",
   "execution_count": 3,
   "metadata": {},
   "outputs": [],
   "source": [
    "from docplex.mp.model import Model\n",
    "from docplex.util.environment import get_environment\n",
    "import numpy as np\n",
    "import pandas as pd"
   ]
  },
  {
   "cell_type": "code",
   "execution_count": 17,
   "metadata": {},
   "outputs": [],
   "source": [
    "url = \"https://api-oaas.docloud.ibmcloud.com/job_manager/rest/v1/\"\n",
    "key = \"<api_key>\""
   ]
  },
  {
   "cell_type": "code",
   "execution_count": 5,
   "metadata": {},
   "outputs": [],
   "source": [
    "myInput =[[0, 0, 0, 0, 0, 0, 0, 0, 0],\n",
    " [0, 0, 0, 0, 0, 0, 0, 0, 0],\n",
    " [0, 0, 0, 0, 0, 0, 0, 0, 0],\n",
    " [0, 0, 0, 0, 0, 0, 0, 0, 0],\n",
    " [0, 0, 0, 0, 0, 0, 0, 0, 0],\n",
    " [0, 0, 0, 0, 0, 0, 0, 0, 0],\n",
    " [0, 0, 0, 0, 0, 0, 0, 0, 0],\n",
    " [0, 0, 0, 0, 0, 0, 0, 0, 0],\n",
    " [0, 0, 0, 0, 0, 0, 0, 0, 0]]"
   ]
  },
  {
   "cell_type": "code",
   "execution_count": 6,
   "metadata": {},
   "outputs": [],
   "source": [
    "R = range(1, 10)\n",
    "centers = [(2,2), (2,5), (2,8), (5,2), (5,5), (5,8), (8,2), (8,5), (8,8)]\n",
    "radius = [-1, 0, 1]\n",
    "idx = [(i, j, k) for i in R for j in R for k in R]"
   ]
  },
  {
   "cell_type": "code",
   "execution_count": 7,
   "metadata": {},
   "outputs": [],
   "source": [
    "model = Model(\"sudoku\")\n",
    "x = model.binary_var_dict(idx, name=\"board\")"
   ]
  },
  {
   "cell_type": "code",
   "execution_count": 8,
   "metadata": {},
   "outputs": [],
   "source": [
    "for i in R:\n",
    "    for j in R:\n",
    "        if myInput[i - 1][j - 1] != 0:\n",
    "            model.add_constraint(x[i, j, myInput[i - 1][j - 1]] == 1)"
   ]
  },
  {
   "cell_type": "code",
   "execution_count": 9,
   "metadata": {},
   "outputs": [],
   "source": [
    "for i in R:\n",
    "    for j in R:\n",
    "        model.add_constraint(model.sum(x[i, j, k] for k in R) == 1)"
   ]
  },
  {
   "cell_type": "code",
   "execution_count": 10,
   "metadata": {},
   "outputs": [],
   "source": [
    "for j in R:\n",
    "    for k in R:\n",
    "        model.add_constraint(model.sum(x[i, j, k] for i in R) == 1)"
   ]
  },
  {
   "cell_type": "code",
   "execution_count": 11,
   "metadata": {},
   "outputs": [],
   "source": [
    "for i in R:\n",
    "    for k in R:\n",
    "        model.add_constraint(model.sum(x[i, j, k] for j in R) == 1)"
   ]
  },
  {
   "cell_type": "code",
   "execution_count": 12,
   "metadata": {},
   "outputs": [],
   "source": [
    "for c in centers:\n",
    "    for k in R:\n",
    "        model.add_constraint(model.sum(x[c[0]+r1, c[1]+r2, k] for r1 in radius for r2 in radius) == 1)"
   ]
  },
  {
   "cell_type": "code",
   "execution_count": 13,
   "metadata": {},
   "outputs": [],
   "source": [
    "model.minimize(model.sum(x[c[0],c[1],k]*k for k in R for c in centers))"
   ]
  },
  {
   "cell_type": "code",
   "execution_count": 14,
   "metadata": {},
   "outputs": [
    {
     "name": "stdout",
     "output_type": "stream",
     "text": [
      "[2019-08-05T13:30:23Z, INFO] CPLEX version 12090000\n",
      "[2019-08-05T13:30:23Z, INFO] Parameter file:\n",
      "[2019-08-05T13:30:23Z, INFO] # -- This content is generated by DOcplex\n",
      "[2019-08-05T13:30:23Z, INFO] CPLEX Parameter File Version 12.8.0.0\n",
      "[2019-08-05T13:30:23Z, INFO] # --- end of generated prm data ---\n",
      "[2019-08-05T13:30:23Z, WARN] Warning:  CPLEX version found in file python_sudoku.prm (12.8.0.0) does not match\n",
      "[2019-08-05T13:30:23Z, WARN]           this CPLEX version (12.9.0.0).\n",
      "[2019-08-05T13:30:23Z, WARN] Changed parameter CPX_PARAM_THREADS from 0 to 10\n",
      "[2019-08-05T13:30:23Z, INFO] Param[1,067] = 10\n",
      "[2019-08-05T13:30:23Z, INFO] Param[1,130] = utf-8\n",
      "[2019-08-05T13:30:23Z, INFO] Param[1,132] = -1\n",
      "[2019-08-05T13:30:23Z, INFO] CPXPARAM_Threads                                 10\n",
      "[2019-08-05T13:30:23Z, INFO] CPXPARAM_Output_CloneLog                         -1\n",
      "[2019-08-05T13:30:23Z, INFO] CPXPARAM_Read_APIEncoding                        \"utf-8\"\n",
      "[2019-08-05T13:30:23Z, INFO] Tried aggregator 1 time.\n",
      "[2019-08-05T13:30:23Z, INFO] Reduced MIP has 324 rows, 729 columns, and 2916 nonzeros.\n",
      "[2019-08-05T13:30:23Z, INFO] Reduced MIP has 729 binaries, 0 generals, 0 SOSs, and 0 indicators.\n",
      "[2019-08-05T13:30:23Z, INFO] Presolve time = 0.00 sec. (1.42 ticks)\n",
      "[2019-08-05T13:30:23Z, INFO] Found incumbent of value 46.000000 after 0.01 sec. (3.72 ticks)\n",
      "[2019-08-05T13:30:23Z, INFO] Probing time = 0.01 sec. (2.47 ticks)\n",
      "[2019-08-05T13:30:23Z, INFO] Tried aggregator 1 time.\n",
      "[2019-08-05T13:30:23Z, INFO] Reduced MIP has 324 rows, 729 columns, and 2916 nonzeros.\n",
      "[2019-08-05T13:30:23Z, INFO] Reduced MIP has 729 binaries, 0 generals, 0 SOSs, and 0 indicators.\n",
      "[2019-08-05T13:30:23Z, INFO] Presolve time = 0.00 sec. (2.82 ticks)\n",
      "[2019-08-05T13:30:23Z, INFO] Probing time = 0.00 sec. (2.47 ticks)\n",
      "[2019-08-05T13:30:23Z, INFO] Clique table members: 324.\n",
      "[2019-08-05T13:30:23Z, INFO] MIP emphasis: balance optimality and feasibility.\n",
      "[2019-08-05T13:30:23Z, INFO] MIP search method: dynamic search.\n",
      "[2019-08-05T13:30:23Z, INFO] Parallel mode: deterministic, using up to 10 threads.\n",
      "[2019-08-05T13:30:23Z, INFO] Root relaxation solution time = 0.02 sec. (14.40 ticks)\n",
      "[2019-08-05T13:30:23Z, INFO] \n",
      "[2019-08-05T13:30:23Z, INFO]         Nodes                                         Cuts/\n",
      "[2019-08-05T13:30:23Z, INFO]    Node  Left     Objective  IInf  Best Integer    Best Bound    ItCnt     Gap\n",
      "[2019-08-05T13:30:23Z, INFO] \n",
      "[2019-08-05T13:30:23Z, INFO] *     0+    0                           46.0000        0.0000           100.00%\n",
      "[2019-08-05T13:30:23Z, INFO] *     0+    0                           44.0000        0.0000           100.00%\n",
      "[2019-08-05T13:30:23Z, INFO] *     0+    0                           38.0000        0.0000           100.00%\n",
      "[2019-08-05T13:30:23Z, INFO]       0     0       18.0000   199       38.0000       18.0000      488   52.63%\n",
      "[2019-08-05T13:30:23Z, INFO] *     0+    0                           31.0000       18.0000            41.94%\n",
      "[2019-08-05T13:30:23Z, INFO] *     0+    0                           18.0000       18.0000             0.00%\n",
      "[2019-08-05T13:30:23Z, INFO]       0     0        cutoff             18.0000       18.0000      488    0.00%\n",
      "[2019-08-05T13:30:23Z, INFO] Elapsed time = 0.27 sec. (69.66 ticks, tree = 0.01 MB, solutions = 5)\n",
      "[2019-08-05T13:30:23Z, INFO] \n",
      "[2019-08-05T13:30:23Z, INFO] Root node processing (before b&c):\n",
      "[2019-08-05T13:30:23Z, INFO]   Real time             =    0.27 sec. (69.70 ticks)\n",
      "[2019-08-05T13:30:23Z, INFO] Parallel b&c, 10 threads:\n",
      "[2019-08-05T13:30:23Z, INFO]   Real time             =    0.00 sec. (0.00 ticks)\n",
      "[2019-08-05T13:30:23Z, INFO]   Sync time (average)   =    0.00 sec.\n",
      "[2019-08-05T13:30:23Z, INFO]   Wait time (average)   =    0.00 sec.\n",
      "[2019-08-05T13:30:23Z, INFO]                           ------------\n",
      "[2019-08-05T13:30:23Z, INFO] Total (root+branch&cut) =    0.27 sec. (69.70 ticks)\n",
      "[2019-08-05T13:30:23Z, INFO] Incumbent solution:\n",
      "[2019-08-05T13:30:23Z, INFO] MILP objective                                 1.8000000000e+01\n",
      "[2019-08-05T13:30:23Z, INFO] MILP solution norm |x| (Total, Max)            8.10000e+01  1.00000e+00\n",
      "[2019-08-05T13:30:23Z, INFO] MILP solution error (Ax=b) (Total, Max)        0.00000e+00  0.00000e+00\n",
      "[2019-08-05T13:30:23Z, INFO] MILP x bound error (Total, Max)                0.00000e+00  0.00000e+00\n",
      "[2019-08-05T13:30:23Z, INFO] MILP x integrality error (Total, Max)          0.00000e+00  0.00000e+00\n",
      "[2019-08-05T13:30:23Z, INFO] MILP slack bound error (Total, Max)            0.00000e+00  0.00000e+00\n",
      "[2019-08-05T13:30:23Z, INFO] integer optimal solution (101)\n"
     ]
    }
   ],
   "source": [
    "solution = model.solve(url=url, key=key, log_output=True)"
   ]
  },
  {
   "cell_type": "code",
   "execution_count": 16,
   "metadata": {},
   "outputs": [
    {
     "name": "stdout",
     "output_type": "stream",
     "text": [
      "[[8. 6. 1. 9. 7. 2. 5. 4. 3.]\n",
      " [9. 2. 4. 8. 3. 5. 7. 1. 6.]\n",
      " [7. 5. 3. 1. 4. 6. 8. 9. 2.]\n",
      " [1. 4. 8. 2. 5. 3. 9. 6. 7.]\n",
      " [5. 3. 7. 6. 1. 9. 4. 2. 8.]\n",
      " [2. 9. 6. 4. 8. 7. 3. 5. 1.]\n",
      " [3. 8. 2. 5. 6. 4. 1. 7. 9.]\n",
      " [4. 1. 9. 7. 2. 8. 6. 3. 5.]\n",
      " [6. 7. 5. 3. 9. 1. 2. 8. 4.]]\n"
     ]
    }
   ],
   "source": [
    "solution_values = solution.get_all_values()\n",
    "sudoku_solution = np.zeros((9,9))\n",
    "\n",
    "for i,v in enumerate(x):\n",
    "    if(solution_values[i] == 1):\n",
    "        sudoku_solution[v[0]-1][v[1]-1] = v[2]\n",
    "        \n",
    "print(sudoku_solution)"
   ]
  },
  {
   "cell_type": "code",
   "execution_count": null,
   "metadata": {},
   "outputs": [],
   "source": []
  }
 ],
 "metadata": {
  "kernelspec": {
   "display_name": "Python 3",
   "language": "python",
   "name": "python3"
  },
  "language_info": {
   "codemirror_mode": {
    "name": "ipython",
    "version": 3
   },
   "file_extension": ".py",
   "mimetype": "text/x-python",
   "name": "python",
   "nbconvert_exporter": "python",
   "pygments_lexer": "ipython3",
   "version": "3.7.1"
  }
 },
 "nbformat": 4,
 "nbformat_minor": 2
}
